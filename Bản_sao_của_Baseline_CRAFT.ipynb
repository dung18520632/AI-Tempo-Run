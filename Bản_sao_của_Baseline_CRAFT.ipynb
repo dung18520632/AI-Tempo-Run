{
  "nbformat": 4,
  "nbformat_minor": 0,
  "metadata": {
    "colab": {
      "name": "Bản sao của Baseline_CRAFT.ipynb",
      "provenance": [],
      "collapsed_sections": [],
      "include_colab_link": true
    },
    "kernelspec": {
      "name": "python3",
      "display_name": "Python 3"
    },
    "language_info": {
      "name": "python"
    },
    "accelerator": "GPU"
  },
  "cells": [
    {
      "cell_type": "markdown",
      "metadata": {
        "id": "view-in-github",
        "colab_type": "text"
      },
      "source": [
        "<a href=\"https://colab.research.google.com/github/dung18520632/AI-Tempo-Run/blob/main/B%E1%BA%A3n_sao_c%E1%BB%A7a_Baseline_CRAFT.ipynb\" target=\"_parent\"><img src=\"https://colab.research.google.com/assets/colab-badge.svg\" alt=\"Open In Colab\"/></a>"
      ]
    },
    {
      "cell_type": "markdown",
      "metadata": {
        "id": "q_n3A_zIs8Z_"
      },
      "source": [
        "## Setup Môi Trường\n",
        "\n"
      ]
    },
    {
      "cell_type": "code",
      "metadata": {
        "id": "K2iV9sqQl7Tg",
        "colab": {
          "base_uri": "https://localhost:8080/"
        },
        "outputId": "fcd948f6-08ec-4e99-f284-b06004fa0eac"
      },
      "source": [
        "#kiem tra gpu\n",
        "!nvidia-smi"
      ],
      "execution_count": 1,
      "outputs": [
        {
          "output_type": "stream",
          "text": [
            "Fri Jul 30 12:48:22 2021       \n",
            "+-----------------------------------------------------------------------------+\n",
            "| NVIDIA-SMI 470.42.01    Driver Version: 460.32.03    CUDA Version: 11.2     |\n",
            "|-------------------------------+----------------------+----------------------+\n",
            "| GPU  Name        Persistence-M| Bus-Id        Disp.A | Volatile Uncorr. ECC |\n",
            "| Fan  Temp  Perf  Pwr:Usage/Cap|         Memory-Usage | GPU-Util  Compute M. |\n",
            "|                               |                      |               MIG M. |\n",
            "|===============================+======================+======================|\n",
            "|   0  Tesla K80           Off  | 00000000:00:04.0 Off |                    0 |\n",
            "| N/A   34C    P8    28W / 149W |      0MiB / 11441MiB |      0%      Default |\n",
            "|                               |                      |                  N/A |\n",
            "+-------------------------------+----------------------+----------------------+\n",
            "                                                                               \n",
            "+-----------------------------------------------------------------------------+\n",
            "| Processes:                                                                  |\n",
            "|  GPU   GI   CI        PID   Type   Process name                  GPU Memory |\n",
            "|        ID   ID                                                   Usage      |\n",
            "|=============================================================================|\n",
            "|  No running processes found                                                 |\n",
            "+-----------------------------------------------------------------------------+\n"
          ],
          "name": "stdout"
        }
      ]
    },
    {
      "cell_type": "code",
      "metadata": {
        "colab": {
          "base_uri": "https://localhost:8080/"
        },
        "id": "EXiSzy0Hdg3i",
        "outputId": "d1fa1486-7ad0-479f-f6b7-de634f6bf768"
      },
      "source": [
        "from google.colab import drive\n",
        "drive.mount('/content/drive')"
      ],
      "execution_count": 2,
      "outputs": [
        {
          "output_type": "stream",
          "text": [
            "Mounted at /content/drive\n"
          ],
          "name": "stdout"
        }
      ]
    },
    {
      "cell_type": "markdown",
      "metadata": {
        "id": "ZVL2qZ-5mNhx"
      },
      "source": [
        "##Clone source code từ github và set-up các tài nguyên cần thiết"
      ]
    },
    {
      "cell_type": "code",
      "metadata": {
        "id": "meae2ZsI2QGL",
        "colab": {
          "base_uri": "https://localhost:8080/"
        },
        "outputId": "df7a4d53-9abb-4b96-a35d-bb435ed7f6fb"
      },
      "source": [
        "%cd /content/drive/MyDrive"
      ],
      "execution_count": 3,
      "outputs": [
        {
          "output_type": "stream",
          "text": [
            "/content/drive/MyDrive\n"
          ],
          "name": "stdout"
        }
      ]
    },
    {
      "cell_type": "code",
      "metadata": {
        "id": "obZXSED3j-8u"
      },
      "source": [
        "!git clone https://github.com/CS-UIT-AI-CLUB/CRAFT"
      ],
      "execution_count": null,
      "outputs": []
    },
    {
      "cell_type": "code",
      "metadata": {
        "id": "LV9flhfWlFxy",
        "colab": {
          "base_uri": "https://localhost:8080/"
        },
        "outputId": "fb43f05a-2fde-4a40-9597-508631be44d0"
      },
      "source": [
        "%cd CRAFT"
      ],
      "execution_count": 5,
      "outputs": [
        {
          "output_type": "stream",
          "text": [
            "/content/drive/MyDrive/CRAFT\n"
          ],
          "name": "stdout"
        }
      ]
    },
    {
      "cell_type": "code",
      "metadata": {
        "id": "7unYwZR52bn5",
        "colab": {
          "base_uri": "https://localhost:8080/",
          "height": 323
        },
        "outputId": "a6c0ac93-6791-40e8-a5fd-c28f2523aba3"
      },
      "source": [
        "# install các package cần thiết\n",
        "!pip install pillow==6.2.2"
      ],
      "execution_count": 6,
      "outputs": [
        {
          "output_type": "stream",
          "text": [
            "Collecting pillow==6.2.2\n",
            "  Downloading Pillow-6.2.2-cp37-cp37m-manylinux1_x86_64.whl (2.1 MB)\n",
            "\u001b[K     |████████████████████████████████| 2.1 MB 4.1 MB/s \n",
            "\u001b[?25hInstalling collected packages: pillow\n",
            "  Attempting uninstall: pillow\n",
            "    Found existing installation: Pillow 7.1.2\n",
            "    Uninstalling Pillow-7.1.2:\n",
            "      Successfully uninstalled Pillow-7.1.2\n",
            "\u001b[31mERROR: pip's dependency resolver does not currently take into account all the packages that are installed. This behaviour is the source of the following dependency conflicts.\n",
            "bokeh 2.3.3 requires pillow>=7.1.0, but you have pillow 6.2.2 which is incompatible.\n",
            "albumentations 0.1.12 requires imgaug<0.2.7,>=0.2.5, but you have imgaug 0.2.9 which is incompatible.\u001b[0m\n",
            "Successfully installed pillow-6.2.2\n"
          ],
          "name": "stdout"
        },
        {
          "output_type": "display_data",
          "data": {
            "application/vnd.colab-display-data+json": {
              "pip_warning": {
                "packages": [
                  "PIL"
                ]
              }
            }
          },
          "metadata": {
            "tags": []
          }
        }
      ]
    },
    {
      "cell_type": "code",
      "metadata": {
        "id": "-IXCjRmw1v7e"
      },
      "source": [
        "!pip install -r requirements.txt -f https://download.pytorch.org/whl/torch_stable.html"
      ],
      "execution_count": null,
      "outputs": []
    },
    {
      "cell_type": "code",
      "metadata": {
        "id": "kNjYbhEnvxB2",
        "colab": {
          "base_uri": "https://localhost:8080/",
          "height": 525
        },
        "outputId": "876ff765-401e-4158-bb9b-c7a4a22dd672"
      },
      "source": [
        "!pip install water "
      ],
      "execution_count": 8,
      "outputs": [
        {
          "output_type": "stream",
          "text": [
            "Collecting water\n",
            "  Downloading water-0.1.dev1.tar.gz (1.2 kB)\n",
            "Collecting Pillow==2.8.2\n",
            "  Downloading Pillow-2.8.2.zip (9.4 MB)\n",
            "\u001b[K     |████████████████████████████████| 9.4 MB 3.7 MB/s \n",
            "\u001b[?25hBuilding wheels for collected packages: water, Pillow\n",
            "  Building wheel for water (setup.py) ... \u001b[?25l\u001b[?25hdone\n",
            "  Created wheel for water: filename=water-0.1.dev1-py3-none-any.whl size=1844 sha256=7a477cb9c0313a432ce482a2743178d303eec282cf8b7da42e062aad5db38fbc\n",
            "  Stored in directory: /root/.cache/pip/wheels/4b/77/3c/6272eae3ae839ae94fe0b6d7ddcbd525a5c1729d2c440da4ff\n",
            "  Building wheel for Pillow (setup.py) ... \u001b[?25l\u001b[?25hdone\n",
            "  Created wheel for Pillow: filename=Pillow-2.8.2-cp37-cp37m-linux_x86_64.whl size=1043310 sha256=90691aca181462415efda9e0fe406fd92d2f874a0d1835826dae2901785685a3\n",
            "  Stored in directory: /root/.cache/pip/wheels/bf/98/61/cc6808046ba818ffe3aff2b8d699fa5493362de36301aa130d\n",
            "Successfully built water Pillow\n",
            "Installing collected packages: Pillow, water\n",
            "  Attempting uninstall: Pillow\n",
            "    Found existing installation: Pillow 6.2.2\n",
            "    Uninstalling Pillow-6.2.2:\n",
            "      Successfully uninstalled Pillow-6.2.2\n",
            "\u001b[31mERROR: pip's dependency resolver does not currently take into account all the packages that are installed. This behaviour is the source of the following dependency conflicts.\n",
            "torchvision 0.8.1+cu101 requires pillow>=4.1.1, but you have pillow 2.8.2 which is incompatible.\n",
            "scikit-image 0.14.2 requires pillow>=4.3.0, but you have pillow 2.8.2 which is incompatible.\n",
            "bokeh 2.3.3 requires pillow>=7.1.0, but you have pillow 2.8.2 which is incompatible.\n",
            "albumentations 0.1.12 requires imgaug<0.2.7,>=0.2.5, but you have imgaug 0.2.9 which is incompatible.\u001b[0m\n",
            "Successfully installed Pillow-2.8.2 water-0.1.dev1\n"
          ],
          "name": "stdout"
        },
        {
          "output_type": "display_data",
          "data": {
            "application/vnd.colab-display-data+json": {
              "pip_warning": {
                "packages": [
                  "PIL"
                ]
              }
            }
          },
          "metadata": {
            "tags": []
          }
        }
      ]
    },
    {
      "cell_type": "code",
      "metadata": {
        "id": "MgucJCnOLPeE"
      },
      "source": [
        "#cac thu muc de chua file test\n",
        "!mkdir result\n",
        "!mkdir results\n",
        "!mkdir tested_image"
      ],
      "execution_count": 9,
      "outputs": []
    },
    {
      "cell_type": "code",
      "metadata": {
        "id": "H4kuUiyPLawt",
        "colab": {
          "base_uri": "https://localhost:8080/"
        },
        "outputId": "00b31530-6cd2-4b41-b1f7-afbbd4aaba74"
      },
      "source": [
        "%cd /content/drive/MyDrive/CRAFT/pretrain\n",
        "#tai cac file can thiet cho training\n",
        "!gdown --id 1-RM4shR-oj0cWO-9mthKZKnyF-qy1OZW -O 91.pth\n",
        "!gdown --id 1wQDetvezJGp6eBVK7_yInOzZdpoD3k7j -O vgg16_bn-6c64b313.pth"
      ],
      "execution_count": 10,
      "outputs": [
        {
          "output_type": "stream",
          "text": [
            "/content/drive/MyDrive/CRAFT/pretrain\n",
            "Downloading...\n",
            "From: https://drive.google.com/uc?id=1-RM4shR-oj0cWO-9mthKZKnyF-qy1OZW\n",
            "To: /content/drive/MyDrive/CRAFT/pretrain/91.pth\n",
            "83.2MB [00:00, 96.0MB/s]\n",
            "Downloading...\n",
            "From: https://drive.google.com/uc?id=1wQDetvezJGp6eBVK7_yInOzZdpoD3k7j\n",
            "To: /content/drive/My Drive/CRAFT/pretrain/vgg16_bn-6c64b313.pth\n",
            "554MB [00:04, 117MB/s]\n"
          ],
          "name": "stdout"
        }
      ]
    },
    {
      "cell_type": "markdown",
      "metadata": {
        "id": "ihmee1m1ml42"
      },
      "source": [
        "##Tải dữ liệu"
      ]
    },
    {
      "cell_type": "code",
      "metadata": {
        "id": "Gsh7KEFtmowv",
        "colab": {
          "base_uri": "https://localhost:8080/"
        },
        "outputId": "a4d59e02-4343-4201-87c2-c0a8da51fd79"
      },
      "source": [
        "%cd /content/drive/MyDrive/\n",
        "!unzip train.zip"
      ],
      "execution_count": 27,
      "outputs": [
        {
          "output_type": "stream",
          "text": [
            "/content/drive/MyDrive\n",
            "unzip:  cannot find or open train.zip, train.zip.zip or train.zip.ZIP.\n"
          ],
          "name": "stdout"
        }
      ]
    },
    {
      "cell_type": "code",
      "metadata": {
        "id": "FgGOmCDXfdo5"
      },
      "source": [
        "!unzip train.zip"
      ],
      "execution_count": null,
      "outputs": []
    },
    {
      "cell_type": "code",
      "metadata": {
        "id": "bwgw7jUi5UPu"
      },
      "source": [
        "#rename thư mục theo định dạng đúng\n",
        "import os\n",
        "os.rename('./train/images','./train/ch4_training_images')\n",
        "os.rename('./train/labels','./train/ch4_training_localization_transcription_gt')"
      ],
      "execution_count": 31,
      "outputs": []
    },
    {
      "cell_type": "code",
      "metadata": {
        "id": "x-4pNpXGwnM1",
        "colab": {
          "base_uri": "https://localhost:8080/"
        },
        "outputId": "59a582e4-83c3-487e-de38-3d9e3f0e1e90"
      },
      "source": [
        "#thay doi dinh dang data\n",
        "%cd /content/drive/MyDrive/train/ch4_training_localization_transcription_gt\n",
        "directory = os.listdir('/content/drive/MyDrive/train/ch4_training_localization_transcription_gt')\n",
        "\n",
        "for file in directory:\n",
        "\tname, ext = os.path.splitext(file)\n",
        "\tos.rename(file, 'gt_' + name + ext)"
      ],
      "execution_count": 32,
      "outputs": [
        {
          "output_type": "stream",
          "text": [
            "/content/drive/MyDrive/train/ch4_training_localization_transcription_gt\n"
          ],
          "name": "stdout"
        }
      ]
    },
    {
      "cell_type": "markdown",
      "metadata": {
        "id": "UKphmIWn1uO0"
      },
      "source": [
        "## Bắt đầu train"
      ]
    },
    {
      "cell_type": "code",
      "metadata": {
        "id": "3sQDcVDn2wje",
        "colab": {
          "base_uri": "https://localhost:8080/"
        },
        "outputId": "ed1c42ee-295f-4295-c973-c1dcd61dbbe7"
      },
      "source": [
        "%cd /content/drive/MyDrive/CRAFT"
      ],
      "execution_count": 33,
      "outputs": [
        {
          "output_type": "stream",
          "text": [
            "/content/drive/MyDrive/CRAFT\n"
          ],
          "name": "stdout"
        }
      ]
    },
    {
      "cell_type": "code",
      "metadata": {
        "id": "0vdfBX6cmLOq"
      },
      "source": [
        "!python trainic15data.py"
      ],
      "execution_count": null,
      "outputs": []
    },
    {
      "cell_type": "markdown",
      "metadata": {
        "id": "WbpOQN5ZMnlk"
      },
      "source": [
        "##Test"
      ]
    },
    {
      "cell_type": "code",
      "metadata": {
        "id": "4lHHocxQ1u1B"
      },
      "source": [
        "%cd /content/drive/MyDrive"
      ],
      "execution_count": null,
      "outputs": []
    },
    {
      "cell_type": "code",
      "metadata": {
        "id": "RxnqDbnE1yLU"
      },
      "source": [
        "#tai test data\n",
        "!gdown --id 14Wf3YMoXT9LcOQWaJbRd3Or2pXMUHO3C -O test.zip\n",
        "!unzip test.zip"
      ],
      "execution_count": null,
      "outputs": []
    },
    {
      "cell_type": "code",
      "metadata": {
        "id": "6pxkb6J18azE"
      },
      "source": [
        "%cd /content/drive/MyDrive/CRAFT/results"
      ],
      "execution_count": null,
      "outputs": []
    },
    {
      "cell_type": "code",
      "metadata": {
        "id": "AfN23e2s8g2E"
      },
      "source": [
        "!gdown --id 1-RM4shR-oj0cWO-9mthKZKnyF-qy1OZW"
      ],
      "execution_count": null,
      "outputs": []
    },
    {
      "cell_type": "code",
      "metadata": {
        "id": "gJlV--Z6N6B_"
      },
      "source": [
        "%cd /content/drive/MyDrive/CRAFT"
      ],
      "execution_count": null,
      "outputs": []
    },
    {
      "cell_type": "code",
      "metadata": {
        "id": "xz_fxr93Mo1c"
      },
      "source": [
        "!python test.py"
      ],
      "execution_count": null,
      "outputs": []
    },
    {
      "cell_type": "code",
      "metadata": {
        "id": "Kf_5IPqe8Ckc"
      },
      "source": [
        "#chuyen dinh dang file test \n",
        "import os\n",
        "%cd /content/drive/MyDrive/CRAFT/tested_image\n",
        "directory = os.listdir('/content/drive/MyDrive/CRAFT/tested_image')\n",
        "count = 0\n",
        "text_file = open(\"aaaa.txt\",\"a\")\n",
        "for file in directory:\n",
        "\tif file.endswith(\".txt\"):\n",
        "\t\tcount = count + 1\n",
        "\t\twith open(file) as f:\n",
        "\t\t\tcontent = f.readlines()\n",
        "\t# you may also want to remove whitespace characters like `\\n` at the end of each line\n",
        "\t\tcontent = [x.strip() for x in content] \n",
        "\t\tfor i in range(len(content)) :\n",
        "\t\t\ttext_file.write(\"{0},{1}\\n\".format(file,content[i]))\n",
        "   \n",
        "print(count)"
      ],
      "execution_count": null,
      "outputs": []
    },
    {
      "cell_type": "code",
      "metadata": {
        "id": "SjqX7Y0xy7jY"
      },
      "source": [
        "%cd /content/drive/MyDrive/CRAFT/result\n",
        "with open('/content/drive/MyDrive/CRAFT/tested_image/aaaa.txt') as f:\n",
        "  contents = f.readlines()\n",
        "# you may also want to remove whitespace characters like `\\n` at the end of each line\n",
        "contents = [x.strip() for x in contents] \n",
        "\n",
        "for i in range(len(contents)):\n",
        "  line = contents[i].split(',')\n",
        "  file_name = line[0]\n",
        "  line[0] = file_name[4:-4] + \".jpg\"\n",
        "  text_file = open('test.txt', \"a\")\n",
        "  text_file.write(\"{0},{1},{2},{3},{4},{5},{6},{7},{8}\\n\".format(line[0],line[1],line[2],line[3],line[4],line[5],line[6],line[7],line[8]))"
      ],
      "execution_count": null,
      "outputs": []
    },
    {
      "cell_type": "markdown",
      "metadata": {
        "id": "SVl5TB1UWSQR"
      },
      "source": [
        "##Submission"
      ]
    },
    {
      "cell_type": "code",
      "metadata": {
        "id": "eSavbLsVWR7k"
      },
      "source": [
        "import math, requests\n",
        "\n",
        "def submit_prediction(df, comment='', **kwargs):\n",
        "    TOKEN='f9f0fe020c715fcc74d65e919507405f1ff39dddfd93556c23513e77abb5b6dbe478fc7a6d00f2fc78f1b138fd0f9338b4e485db6e7406c02954bc92e2c7b0a2'\n",
        "    URL='http://submission.mmlab.uit.edu.vn/api/submissions'\n",
        "    r = requests.post(URL, headers={'Authorization': 'Bearer {}'.format(TOKEN)},files={'datafile': open(df, 'rb')},data={'comment':comment})\n",
        "    if r.status_code == 429:\n",
        "        raise Exception('Submissions are too close. Next submission is only allowed in {} seconds.'.format(int(math.ceil(int(r.headers['x-rate-limit-remaining']) / 1000.0))))\n",
        "    if r.status_code != 200:\n",
        "        raise Exception(r.text)\n",
        "        \n",
        "submit_prediction('/content/drive/MyDrive/CRAFT/result/test.txt', comment='my submission')"
      ],
      "execution_count": null,
      "outputs": []
    },
    {
      "cell_type": "code",
      "metadata": {
        "id": "CM8mIlaiIKW0"
      },
      "source": [
        ""
      ],
      "execution_count": null,
      "outputs": []
    }
  ]
}